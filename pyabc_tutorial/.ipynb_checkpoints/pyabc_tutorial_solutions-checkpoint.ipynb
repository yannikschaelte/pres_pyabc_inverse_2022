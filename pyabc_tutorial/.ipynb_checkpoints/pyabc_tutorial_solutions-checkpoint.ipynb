{
 "cells": [
  {
   "cell_type": "markdown",
   "id": "2a265a31-3d72-49db-99f1-61bd95961fe9",
   "metadata": {},
   "source": [
    "# pyABC Tutorial\n",
    "\n",
    "This is a tutorial for the python package **pyABC** for **likelihood-free parameter inference using approximate Bayesian computation**. See:\n",
    "* https://github.com/ICB-DCM/pyABC for the code\n",
    "* https://pyabc.readthedocs.io/en/latest/ for the documentation and examples\n",
    "* https://pyabc.readthedocs.io/en/latest/cite.html for the papers\n",
    "* https://github.com/yannikschaelte/pres_pyabc_inverse_2022 for presentation slides and further material"
   ]
  },
  {
   "cell_type": "markdown",
   "id": "54e0aa20-2c96-4308-a5fe-e8e0cb246352",
   "metadata": {
    "tags": []
   },
   "source": [
    "## Install\n",
    "\n",
    "### Python\n",
    "\n",
    "This step can be skipped if you already have python>=3.8 (check via `python3 --version`).\n",
    "Download the conda package manager via the mini distribution [Miniconda](https://docs.conda.io/en/latest/miniconda.html), see the [instructions](https://docs.conda.io/projects/conda/en/latest/user-guide/install/index.html).\n",
    "Specifically, for Linux, execute\n",
    "\n",
    "```sh\n",
    "wget https://repo.anaconda.com/miniconda/Miniconda3-latest-Linux-x86_64.sh\n",
    "bash Miniconda3-latest-Linux-x86_64.sh -b -p miniconda3\n",
    "rm Miniconda3-latest-Linux-x86_64.sh\n",
    "```\n",
    "\n",
    "### Custom environment\n",
    "\n",
    "We will work in a fresh local environment:\n",
    "\n",
    "```sh\n",
    "eval \"$(miniconda3/bin/conda shell.bash hook)\"\n",
    "conda create -y -n invenv python\n",
    "```\n",
    "\n",
    "### (Re-)Activate environment\n",
    "\n",
    "To activate the local environment, in each new shell session execute:\n",
    "\n",
    "```sh\n",
    "eval \"$(miniconda3/bin/conda shell.bash hook)\"\n",
    "conda activate invenv\n",
    "```\n",
    "\n",
    "To verify your installation: `which pip` should now point to your newly created environment.\n",
    "\n",
    "### Install dependencies\n",
    "\n",
    "We install pyABC, as well as the interactive jupyter platform:\n",
    "\n",
    "```sh\n",
    "pip install jupyterlab pyabc\n",
    "```\n",
    "\n",
    "To open a jupyter notebook (e.g. this one):\n",
    "\n",
    "```sh\n",
    "jupyter lab [DIR]\n",
    "```"
   ]
  },
  {
   "cell_type": "code",
   "execution_count": 1,
   "id": "0ed2d44c-c229-4cc6-bb49-c6acd39c70f3",
   "metadata": {},
   "outputs": [],
   "source": [
    "import numpy as np\n",
    "import matplotlib.pyplot as plt\n",
    "import pyabc\n",
    "\n",
    "pyabc.settings.set_figure_params('pyabc')  # for beautified plots"
   ]
  },
  {
   "cell_type": "markdown",
   "id": "8c9bf139-0fc8-4df3-8dc4-04b048dbb5f2",
   "metadata": {},
   "source": [
    "## Toy example\n",
    "\n",
    "As toy example, we consider a model $y\\sim\\mathcal{N}(\\mu,\\sigma^2)$ with fixed variance $\\sigma^2=0.5$ and unknown univariate mean $\\mu$. We have observed data $y_\\text{obs} = 3.5$, and assume prior knowledge that the true man is in the interval $\\mu \\in [1,10]$."
   ]
  },
  {
   "cell_type": "markdown",
   "id": "683c8592-359d-4d6c-a06e-aebea385c778",
   "metadata": {},
   "source": [
    "### Own ABC\n",
    "\n",
    "To demonstrate how simple ABC is at its core, let us first implement an own rejection algorithm with quadratic distance, acceptance threshold $\\varepsilon = 0.1$, and population size $N=1000$.\n",
    "Define model, distance, and prior:"
   ]
  },
  {
   "cell_type": "code",
   "execution_count": 2,
   "id": "fa411fe2-695d-419b-8859-27af4d2e6c58",
   "metadata": {},
   "outputs": [],
   "source": [
    "from scipy.stats import uniform, norm\n",
    "\n",
    "y_obs = 3.5\n",
    "\n",
    "sigma = 0.5\n",
    "\n",
    "def model(p):\n",
    "    return p + sigma * np.random.normal()\n",
    "\n",
    "def distance(y, y_obs):\n",
    "    return np.sum((y - y_obs)**2)\n",
    "\n",
    "\n",
    "xmin = 1\n",
    "xmax = 7\n",
    "prior = uniform(xmin, xmax-xmin)"
   ]
  },
  {
   "cell_type": "markdown",
   "id": "6aa0591b-e965-47e3-9142-9b401b15283d",
   "metadata": {},
   "source": [
    "Implement the ABC algorithm and plot the posterior:"
   ]
  },
  {
   "cell_type": "code",
   "execution_count": 3,
   "id": "077a0b1f-a76b-45bc-9915-08ffd183c7a6",
   "metadata": {},
   "outputs": [
    {
     "data": {
      "image/png": "[encoded data removed]",
      "text/plain": [
       "<Figure size 432x288 with 1 Axes>"
      ]
     },
     "metadata": {
      "needs_background": "light"
     },
     "output_type": "display_data"
    }
   ],
   "source": [
    "# population size \n",
    "N = 1000\n",
    "\n",
    "# acceptance threshold\n",
    "eps = 0.1\n",
    "\n",
    "# accepted parameters\n",
    "thetas = []\n",
    "\n",
    "# ABC loop: sample, simulate, evaluate until enough acceptances\n",
    "while len(thetas) < N:\n",
    "    theta = prior.rvs()\n",
    "    y = model(theta)\n",
    "    if distance(y, y_obs) < eps:\n",
    "        thetas.append(theta)\n",
    "\n",
    "# plot\n",
    "fig, ax = plt.subplots()\n",
    "ax.hist(thetas, bins=int(N / 50), density=True)\n",
    "ax.set_xlim(xmin, xmax)\n",
    "ax.set_xlabel(r\"$\\mu$\");"
   ]
  },
  {
   "cell_type": "markdown",
   "id": "cd105441-a688-4e04-bee1-1988d828853f",
   "metadata": {},
   "source": [
    "We can compare this to the true posterior:"
   ]
  },
  {
   "cell_type": "code",
   "execution_count": 4,
   "id": "1762edcd-bd3e-4099-9c66-bb9e023f5980",
   "metadata": {},
   "outputs": [
    {
     "data": {
      "image/png": "[encoded data removed]",
      "text/plain": [
       "<Figure size 432x288 with 1 Axes>"
      ]
     },
     "metadata": {
      "needs_background": "light"
     },
     "output_type": "display_data"
    }
   ],
   "source": [
    "from scipy.integrate import quad\n",
    "\n",
    "likelihood = lambda p: norm.pdf(loc=y_obs, scale=sigma, x=p)\n",
    "\n",
    "posterior_unnormalized = lambda p: likelihood(p) * prior.pdf(p)\n",
    "posterior_norm = quad(posterior_unnormalized, xmin, xmax)[0]\n",
    "posterior = lambda p: posterior_unnormalized(p) / posterior_norm\n",
    "\n",
    "fig, ax = plt.subplots()\n",
    "ax.hist(thetas, bins=int(N / 50), density=True)\n",
    "ax.set_xlim(xmin, xmax)\n",
    "ax.set_xlabel(r\"$\\mu$\")\n",
    "\n",
    "xs = np.linspace(xmin, xmax, 100)\n",
    "true_ys = posterior(xs)\n",
    "ax.plot(xs, true_ys, color=\"grey\", linestyle=\"dashed\");"
   ]
  },
  {
   "cell_type": "markdown",
   "id": "d8bd1cf8-42e3-4787-a14a-8d23cb9979a4",
   "metadata": {},
   "source": [
    "### Own ABC-IS\n",
    "\n",
    "As the prior may be uninformative, in importance sampling we use a different proposal distribution to sample from (and afterwards reweight the particles by prior divided by proposal):"
   ]
  },
  {
   "cell_type": "code",
   "execution_count": 5,
   "id": "c3c6dd53-64c0-44c5-82fe-8ee591ceeb6e",
   "metadata": {},
   "outputs": [
    {
     "data": {
      "image/png": "[encoded data removed]",
      "text/plain": [
       "<Figure size 432x288 with 1 Axes>"
      ]
     },
     "metadata": {
      "needs_background": "light"
     },
     "output_type": "display_data"
    }
   ],
   "source": [
    "from scipy.stats import norm\n",
    "\n",
    "# proposal distribution\n",
    "proposal = norm(loc=7, scale=2)\n",
    "\n",
    "# accepted parameters and corresponding weights\n",
    "thetas = []\n",
    "weights = []\n",
    "\n",
    "# ABC loop: sample, simulate, evaluate until enough acceptances\n",
    "while len(thetas) < N:\n",
    "    theta = proposal.rvs()\n",
    "    y = model(theta)\n",
    "    if distance(y, y_obs) < eps:\n",
    "        thetas.append(theta)\n",
    "        weight = prior.pdf(theta) / proposal.pdf(theta)\n",
    "        weights.append(weight)\n",
    "\n",
    "# plot\n",
    "fig, ax = plt.subplots()\n",
    "ax.hist(thetas, weights=weights, bins=int(N / 50), density=True)\n",
    "ax.set_xlim(xmin, xmax)\n",
    "ax.set_xlabel(r\"$\\mu$\")\n",
    "\n",
    "xs = np.linspace(xmin, xmax, 100)\n",
    "ax.plot(xs, posterior(xs), color=\"grey\", linestyle=\"dashed\");"
   ]
  },
  {
   "cell_type": "markdown",
   "id": "9f5511b9-8f10-4d24-9036-6a97fbffe7ff",
   "metadata": {},
   "source": [
    "What is our effective sample size? It is given as:\n",
    "\n",
    "$$\\operatorname{ESS} = \\frac{\\left(\\sum_iw_i\\right)^2}{\\sum_i w_i^2}$$"
   ]
  },
  {
   "cell_type": "code",
   "execution_count": 6,
   "id": "aa8fcbc5-61ff-4fd7-b1b2-ae2626f07bed",
   "metadata": {},
   "outputs": [
    {
     "name": "stdout",
     "output_type": "stream",
     "text": [
      "814.0092824552288\n"
     ]
    }
   ],
   "source": [
    "weights = np.asarray(weights)\n",
    "ess = weights.sum()**2 / (weights**2).sum() \n",
    "print(ess)"
   ]
  },
  {
   "cell_type": "markdown",
   "id": "31239c78-8cec-4b2a-9d52-d22c9e123541",
   "metadata": {},
   "source": [
    "### In pyABC\n",
    "\n",
    "Now, let's use pyABC to perform the same analysis with its implemented ABC-SMC algorithm.\n",
    "\n",
    "#### Problem description\n",
    "\n",
    "Specify the model:"
   ]
  },
  {
   "cell_type": "code",
   "execution_count": 7,
   "id": "7e137ca3-859c-4cf8-91d3-d9af0e98ac0c",
   "metadata": {},
   "outputs": [],
   "source": [
    "sigma = 0.5\n",
    "\n",
    "# pyABC accepts arbitrary model functions that return a dictionary of\n",
    "#  observed values\n",
    "\n",
    "# more precisely, the following structure is assumed:\n",
    "#  model(p: Parameter) -> Simulation\n",
    "#  where Parameter = dict[str, float]\n",
    "#  and Simulation = dict[str, {float, np.ndarray, pd.DataFrame}]\n",
    "\n",
    "def model(p):\n",
    "    return {\"y\": p[\"mu\"] + sigma * np.random.normal()}"
   ]
  },
  {
   "cell_type": "markdown",
   "id": "ad4caa8e-e10e-4d57-9649-4debca89e39e",
   "metadata": {},
   "source": [
    "The observed data are:"
   ]
  },
  {
   "cell_type": "code",
   "execution_count": 8,
   "id": "4b3bd6f8-82a5-4a38-8c23-9dd3e1bc6f12",
   "metadata": {},
   "outputs": [],
   "source": [
    "y_obs = {\"y\": 3.5}"
   ]
  },
  {
   "cell_type": "markdown",
   "id": "f45d8dd5-67f1-4fb1-94c1-aa2765a810c3",
   "metadata": {},
   "source": [
    "The prior is:"
   ]
  },
  {
   "cell_type": "code",
   "execution_count": 9,
   "id": "de07e9cb-ccdd-40bd-98cd-41bf0a07cfc6",
   "metadata": {},
   "outputs": [],
   "source": [
    "prior = pyabc.Distribution(mu=pyabc.RV(\"uniform\", xmin, xmax-xmin))"
   ]
  },
  {
   "cell_type": "markdown",
   "id": "c6e61626-aeab-452d-ab9b-f1ceac1889d5",
   "metadata": {},
   "source": [
    "Distance function:"
   ]
  },
  {
   "cell_type": "code",
   "execution_count": 10,
   "id": "3cd76245-12a5-4b99-a4e7-f2026cec30a0",
   "metadata": {},
   "outputs": [],
   "source": [
    "# distances are assumed to follow the structure\n",
    "#  distance(y: Simulation, y_obs: Simulation) -> float\n",
    "\n",
    "def distance(y, y_obs):\n",
    "    return (y[\"y\"] - y_obs[\"y\"])**2"
   ]
  },
  {
   "cell_type": "markdown",
   "id": "6151a780-e936-4ecd-a0ce-babec6041f9c",
   "metadata": {},
   "source": [
    "#### ABC analysis\n",
    "\n",
    "The problem being defined, we continue by setting up an `ABCSMC` analysis with $N=1000$ samples per generation.\n",
    "We have to specify where to log the analysis results.\n",
    "Then, we're all good and can run an analysis that continues until 10 generations have been created, or the acceptance rate falls below $0.01$:"
   ]
  },
  {
   "cell_type": "code",
   "execution_count": 11,
   "id": "b3997f2b-16f9-4a2e-9d52-5cc60504cb84",
   "metadata": {},
   "outputs": [
    {
     "name": "stderr",
     "output_type": "stream",
     "text": [
      "ABC.Sampler INFO: Parallelize sampling on 8 processes.\n",
      "ABC.History INFO: Start <ABCSMC id=1, start_time=2022-08-25 22:54:56>\n",
      "ABC INFO: Calibration sample t = -1.\n",
      "ABC INFO: t: 0, eps: 2.14673451e+00.\n",
      "ABC INFO: Accepted: 1000 / 2085 = 4.7962e-01, ESS: 1.0000e+03.\n",
      "ABC INFO: t: 1, eps: 5.90703265e-01.\n",
      "ABC INFO: Accepted: 1000 / 2060 = 4.8544e-01, ESS: 9.7191e+02.\n",
      "ABC INFO: t: 2, eps: 1.46762388e-01.\n",
      "ABC INFO: Accepted: 1000 / 3027 = 3.3036e-01, ESS: 8.6851e+02.\n",
      "ABC INFO: t: 3, eps: 3.99515519e-02.\n",
      "ABC INFO: Accepted: 1000 / 4892 = 2.0442e-01, ESS: 7.7220e+02.\n",
      "ABC INFO: Stop: Minimum epsilon.\n",
      "ABC.History INFO: Done <ABCSMC id=1, duration=0:00:09.837582, end_time=2022-08-25 22:55:06>\n"
     ]
    }
   ],
   "source": [
    "# population size\n",
    "N = 1000\n",
    "# ABCSMC instance\n",
    "abc = pyabc.ABCSMC(model, prior, distance, population_size=N)\n",
    "\n",
    "# local sqlite database\n",
    "db_path = \"test.db\"\n",
    "abc.new(\"sqlite:///\" + db_path, y_obs)\n",
    "\n",
    "history = abc.run(max_nr_populations=10, minimum_epsilon=0.1)"
   ]
  },
  {
   "cell_type": "markdown",
   "id": "b59ddda8-91c6-4bbe-9bfe-31c6d8e2d1b5",
   "metadata": {},
   "source": [
    "### Visualization and analysis\n",
    "\n",
    "Let us visualize the ABC posterior approximation over the generations:"
   ]
  },
  {
   "cell_type": "code",
   "execution_count": 12,
   "id": "c7b10d11-aa85-49a6-800c-b960ddde129f",
   "metadata": {},
   "outputs": [
    {
     "data": {
      "text/plain": [
       "<matplotlib.legend.Legend at 0x7fc48e10b4c0>"
      ]
     },
     "execution_count": 12,
     "metadata": {},
     "output_type": "execute_result"
    },
    {
     "data": {
      "image/png": "[encoded data removed]",
      "text/plain": [
       "<Figure size 432x288 with 1 Axes>"
      ]
     },
     "metadata": {
      "needs_background": "light"
     },
     "output_type": "display_data"
    }
   ],
   "source": [
    "fig, ax = plt.subplots()\n",
    "for t in range(history.max_t + 1):\n",
    "    pyabc.visualization.plot_kde_1d_highlevel(\n",
    "        history,\n",
    "        t=t,\n",
    "        xmin=xmin,\n",
    "        xmax=xmax,\n",
    "        x=\"mu\",\n",
    "        xname=r\"$\\mu$\",\n",
    "        ax=ax,\n",
    "        label=f\"PDF t={t}\",\n",
    "    )\n",
    "ax.axvline(x=y_obs[\"y\"], linestyle=\"dotted\", color=\"grey\", label=\"Observation\")\n",
    "\n",
    "ax.plot(xs, true_ys, color=\"grey\", linestyle=\"dashed\", label=\"True\")\n",
    "\n",
    "ax.legend(bbox_to_anchor=(0.9, 0.5), loc=\"center left\")"
   ]
  },
  {
   "cell_type": "markdown",
   "id": "875573ca-4d4e-4b45-b889-caa0a2d03b6e",
   "metadata": {},
   "source": [
    "Next, let us analyze the performance of the sampler by plotting sample numbers, epsilon threshold, and effective sample sizes over the generations:"
   ]
  },
  {
   "cell_type": "code",
   "execution_count": 13,
   "id": "79f2e55d-39fd-4361-a9ee-1928ff6cfafb",
   "metadata": {},
   "outputs": [
    {
     "data": {
      "image/png": "[encoded data removed]",
      "text/plain": [
       "<Figure size 864x288 with 3 Axes>"
      ]
     },
     "metadata": {
      "needs_background": "light"
     },
     "output_type": "display_data"
    }
   ],
   "source": [
    "fig, arr_ax = plt.subplots(1, 3, figsize=(12, 4))\n",
    "\n",
    "pyabc.visualization.plot_sample_numbers(history, ax=arr_ax[0])\n",
    "pyabc.visualization.plot_epsilons(history, ax=arr_ax[1])\n",
    "pyabc.visualization.plot_effective_sample_sizes(history, ax=arr_ax[2])\n",
    "\n",
    "fig.tight_layout()"
   ]
  },
  {
   "cell_type": "markdown",
   "id": "e60d6def-720e-4d0d-a26b-cad801676af7",
   "metadata": {},
   "source": [
    "That's it, you have run your first pyABC analysis. For more details, illustrations of the various algorithms pyABC implements, and application examples, see https://pyabc.readthedocs.io/en/latest/examples.html.\n",
    "\n",
    "\n",
    "\n",
    "\n",
    "\n",
    "\n",
    "\n",
    "\n",
    "\n",
    "\n",
    "\n",
    "\n",
    "\n",
    "\n",
    "\n",
    "\n",
    "\n",
    "\n",
    "\n",
    "\n",
    "\n",
    "\n",
    "\n",
    "\n",
    "\n",
    "\n",
    "\n",
    "\n",
    "\n",
    "\n",
    "\n",
    "\n",
    "\n",
    "\n",
    "\n",
    "\n",
    "\n",
    "\n",
    "\n",
    "\n",
    "\n",
    "\n",
    "\n",
    "\n",
    "\n",
    "\n",
    "\n",
    "\n",
    "\n",
    "\n",
    "\n",
    "\n",
    "\n",
    "\n",
    "\n",
    "\n",
    "\n",
    "\n",
    "\n",
    "\n",
    "\n",
    "\n",
    "\n",
    "\n",
    "\n",
    "\n",
    "\n",
    "\n",
    "\n",
    "\n",
    "\n",
    "\n",
    "\n",
    "\n",
    "\n",
    "\n",
    "\n",
    "\n",
    "\n",
    "\n",
    "\n",
    "\n",
    "\n",
    "\n",
    "\n",
    "\n",
    "\n",
    "\n",
    "\n",
    "\n",
    "\n",
    "\n",
    "\n",
    "\n",
    "\n",
    "\n",
    "\n",
    "\n",
    "\n",
    "\n",
    "\n",
    "\n",
    "\n",
    "\n",
    "\n",
    "\n",
    "\n",
    "\n",
    "\n",
    "\n",
    "\n",
    "\n",
    "\n",
    "\n",
    "\n",
    "\n",
    "\n",
    "\n",
    "\n",
    "\n",
    "\n"
   ]
  }
 ],
 "metadata": {
  "kernelspec": {
   "display_name": "Python 3 (ipykernel)",
   "language": "python",
   "name": "python3"
  },
  "language_info": {
   "codemirror_mode": {
    "name": "ipython",
    "version": 3
   },
   "file_extension": ".py",
   "mimetype": "text/x-python",
   "name": "python",
   "nbconvert_exporter": "python",
   "pygments_lexer": "ipython3",
   "version": "3.10.4"
  }
 },
 "nbformat": 4,
 "nbformat_minor": 5
}
